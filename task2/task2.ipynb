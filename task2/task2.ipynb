{
  "metadata": {
    "language_info": {
      "codemirror_mode": {
        "name": "python",
        "version": 3
      },
      "file_extension": ".py",
      "mimetype": "text/x-python",
      "name": "python",
      "nbconvert_exporter": "python",
      "pygments_lexer": "ipython3",
      "version": "3.8"
    },
    "kernelspec": {
      "name": "python",
      "display_name": "Python (Pyodide)",
      "language": "python"
    }
  },
  "nbformat_minor": 4,
  "nbformat": 4,
  "cells": [
    {
      "cell_type": "markdown",
      "source": "Importing libraries",
      "metadata": {}
    },
    {
      "cell_type": "code",
      "source": "import rasterio\nfrom rasterio.plot import reshape_as_image\nimport matplotlib.pyplot as plt\nimport cv2\nfrom skimage import img_as_ubyte",
      "metadata": {},
      "execution_count": null,
      "outputs": []
    },
    {
      "cell_type": "markdown",
      "source": "Function for reading the image from a raster file using the rasterio library, reshaping it as an image, converting it to a NumPy array of unsigned bytes and resizing",
      "metadata": {}
    },
    {
      "cell_type": "code",
      "source": "def loadingImages(raster_path):\n    with rasterio.open(raster_path, \"r\", driver=\"JP2OpenJPEG\") as src:\n        raster_img = src.read()\n    raster_img = reshape_as_image(raster_img)\n    img = img_as_ubyte(raster_img)\n    resized_image = cv2.resize(img, (500, 500), interpolation=cv2.INTER_AREA)\n    return resized_image",
      "metadata": {},
      "execution_count": null,
      "outputs": []
    },
    {
      "cell_type": "markdown",
      "source": "Function for finding the descriptors and keypoints using ORB.",
      "metadata": {}
    },
    {
      "cell_type": "code",
      "source": "def findDescriptors(img):\n    orb = cv2.ORB_create()\n    keypoints, descriptors = orb.detectAndCompute(img, None)\n    # keypoints_img = cv2.drawKeypoints(img, keypoints, None, color=(255, 0, 0), flags=0)\n    return keypoints, descriptors",
      "metadata": {},
      "execution_count": null,
      "outputs": []
    },
    {
      "cell_type": "markdown",
      "source": "Function for finding first 50 matches between descriptors of 2 images.",
      "metadata": {}
    },
    {
      "cell_type": "code",
      "source": "def matchingImages(img1, img2):\n    # finding keypoints and descriptors\n    keypoints1, descriptors1 = findDescriptors(img1)\n    keypoints2, descriptors2 = findDescriptors(img2)\n    bf = cv2.BFMatcher(cv2.NORM_HAMMING)\n    matches = bf.match(descriptors1, descriptors2)\n    matches = sorted(matches, key=lambda x: x.distance)\n    img_matches = cv2.drawMatches(img1, keypoints1, img2, keypoints2, matches[:50], None, flags=0)\n    return img_matches",
      "metadata": {},
      "execution_count": null,
      "outputs": []
    },
    {
      "cell_type": "markdown",
      "source": "First image loading",
      "metadata": {}
    },
    {
      "cell_type": "code",
      "source": "raster_path1=\"T36UYA_20160212T084052_B01.jp2\"\nimg1 = loadingImages(raster_path1)",
      "metadata": {},
      "execution_count": null,
      "outputs": []
    },
    {
      "cell_type": "markdown",
      "source": "Second image loading",
      "metadata": {}
    },
    {
      "cell_type": "code",
      "source": "raster_path2=\"T36UYA_20160212T084052_B02.jp2\"\nimg2 = loadingImages(raster_path2)",
      "metadata": {},
      "execution_count": null,
      "outputs": []
    },
    {
      "cell_type": "code",
      "source": "",
      "metadata": {},
      "execution_count": null,
      "outputs": []
    },
    {
      "cell_type": "code",
      "source": "img_matches = matchingImages(img1, img2)\nplt.figure(figsize=(10,10))\nplt.imshow(img_matches)\nplt.show()",
      "metadata": {},
      "execution_count": null,
      "outputs": []
    }
  ]
}